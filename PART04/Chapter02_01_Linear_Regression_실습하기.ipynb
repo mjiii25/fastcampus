{
  "nbformat": 4,
  "nbformat_minor": 0,
  "metadata": {
    "colab": {
      "name": "01_Linear Regression 실습하기.ipynb",
      "provenance": [],
      "collapsed_sections": [],
      "toc_visible": true,
      "include_colab_link": true
    },
    "interpreter": {
      "hash": "cccd584f7b4722b77d43dcc1cc37e76a0fc0e94b8ea209b288bb2157fa8ff404"
    },
    "kernelspec": {
      "display_name": "Python 3 (ipykernel)",
      "language": "python",
      "name": "python3"
    },
    "language_info": {
      "codemirror_mode": {
        "name": "ipython",
        "version": 3
      },
      "file_extension": ".py",
      "mimetype": "text/x-python",
      "name": "python",
      "nbconvert_exporter": "python",
      "pygments_lexer": "ipython3",
      "version": "3.8.10"
    }
  },
  "cells": [
    {
      "cell_type": "markdown",
      "metadata": {
        "id": "view-in-github",
        "colab_type": "text"
      },
      "source": [
        "<a href=\"https://colab.research.google.com/github/mjiii25/fastcampus/blob/main/PART04/Chapter02_01_Linear_Regression_%EC%8B%A4%EC%8A%B5%ED%95%98%EA%B8%B0.ipynb\" target=\"_parent\"><img src=\"https://colab.research.google.com/assets/colab-badge.svg\" alt=\"Open In Colab\"/></a>"
      ]
    },
    {
      "cell_type": "markdown",
      "metadata": {
        "id": "TV_6OSS-5Dz9"
      },
      "source": [
        "# Linear Regression 실습"
      ]
    },
    {
      "cell_type": "code",
      "metadata": {
        "id": "vOrznHBik5-i"
      },
      "source": [
        "import pandas as pd\n",
        "import numpy as np\n",
        "import matplotlib.pyplot as plt\n",
        "\n",
        "\n",
        "np.random.seed(2021)"
      ],
      "execution_count": null,
      "outputs": []
    },
    {
      "cell_type": "markdown",
      "metadata": {
        "id": "T_WYzqn85D0F"
      },
      "source": [
        "## 1. Univariate Regression"
      ]
    },
    {
      "cell_type": "markdown",
      "metadata": {
        "id": "KtH-yI9Jl_M4"
      },
      "source": [
        "### 1.1 Sample Data\n",
        "강의에서 예시로 사용했던 데이터를 생성합니다."
      ]
    },
    {
      "cell_type": "code",
      "metadata": {
        "id": "Pz6Xl0YKk-lY"
      },
      "source": [
        "X = np.array([1,2,3,4])\n",
        "y = np.array([2,1,4,3])"
      ],
      "execution_count": null,
      "outputs": []
    },
    {
      "cell_type": "markdown",
      "metadata": {
        "id": "Ei6fZjpp5D0H"
      },
      "source": [
        "Plot으로 그려보겠습니다."
      ]
    },
    {
      "cell_type": "code",
      "metadata": {
        "colab": {
          "base_uri": "https://localhost:8080/",
          "height": 282
        },
        "id": "mlhM-cVzlDOJ",
        "outputId": "47fb02be-8f10-47a4-bef2-8fc4ce020f00"
      },
      "source": [
        "plt.scatter(X, y)"
      ],
      "execution_count": null,
      "outputs": [
        {
          "output_type": "execute_result",
          "data": {
            "text/plain": [
              "<matplotlib.collections.PathCollection at 0x7fbb58e75f10>"
            ]
          },
          "metadata": {},
          "execution_count": 3
        },
        {
          "output_type": "display_data",
          "data": {
            "image/png": "[encoded data removed]",
            "text/plain": [
              "<Figure size 432x288 with 1 Axes>"
            ]
          },
          "metadata": {
            "needs_background": "light"
          }
        }
      ]
    },
    {
      "cell_type": "markdown",
      "metadata": {
        "id": "LhyfaUGOmLeC"
      },
      "source": [
        "### 1.2 Data 변환\n",
        "scikit-learn 에서 모델 학습을 위한 데이터는 `(n,c)` 형태로 되어 있어야 합니다.\n",
        "- `n`은 데이터의 개수를 의미합니다.\n",
        "- `c`는 feature의 개수를 의미합니다.\n",
        "\n",
        "우리가 사용하는 데이터는 4개의 데이터와 1개의 feature로 이루어져 있습니다.\n"
      ]
    },
    {
      "cell_type": "code",
      "metadata": {
        "colab": {
          "base_uri": "https://localhost:8080/"
        },
        "id": "LKgTSHR6ldex",
        "outputId": "20d41e65-b409-4f71-d20f-bc2537b7b95c"
      },
      "source": [
        "X"
      ],
      "execution_count": null,
      "outputs": [
        {
          "output_type": "execute_result",
          "data": {
            "text/plain": [
              "array([1, 2, 3, 4])"
            ]
          },
          "metadata": {},
          "execution_count": 4
        }
      ]
    },
    {
      "cell_type": "code",
      "metadata": {
        "colab": {
          "base_uri": "https://localhost:8080/"
        },
        "id": "EVVDjbuqmlXg",
        "outputId": "d07c0876-ed11-4877-d564-bfc387f184ea"
      },
      "source": [
        "X.shape"
      ],
      "execution_count": null,
      "outputs": [
        {
          "output_type": "execute_result",
          "data": {
            "text/plain": [
              "(4,)"
            ]
          },
          "metadata": {},
          "execution_count": 5
        }
      ]
    },
    {
      "cell_type": "code",
      "metadata": {
        "id": "63OayHWwlerr"
      },
      "source": [
        "data = X.reshape(-1, 1)"
      ],
      "execution_count": null,
      "outputs": []
    },
    {
      "cell_type": "code",
      "metadata": {
        "colab": {
          "base_uri": "https://localhost:8080/"
        },
        "id": "_kbBmEWw5D0N",
        "outputId": "52892bcc-cb5e-45de-8e1d-2898494012c9"
      },
      "source": [
        "data"
      ],
      "execution_count": null,
      "outputs": [
        {
          "output_type": "execute_result",
          "data": {
            "text/plain": [
              "array([[1],\n",
              "       [2],\n",
              "       [3],\n",
              "       [4]])"
            ]
          },
          "metadata": {},
          "execution_count": 7
        }
      ]
    },
    {
      "cell_type": "code",
      "metadata": {
        "colab": {
          "base_uri": "https://localhost:8080/"
        },
        "id": "QorF944tmmuO",
        "outputId": "6895b1f8-7dc0-417a-bb64-ec5c526b625d"
      },
      "source": [
        "data.shape"
      ],
      "execution_count": null,
      "outputs": [
        {
          "output_type": "execute_result",
          "data": {
            "text/plain": [
              "(4, 1)"
            ]
          },
          "metadata": {},
          "execution_count": 8
        }
      ]
    },
    {
      "cell_type": "markdown",
      "metadata": {
        "id": "eXxihzHHmt-C"
      },
      "source": [
        "### 1.3 Liner Regression"
      ]
    },
    {
      "cell_type": "code",
      "metadata": {
        "id": "td_OzNihlEWz"
      },
      "source": [
        "from sklearn.linear_model import LinearRegression"
      ],
      "execution_count": null,
      "outputs": []
    },
    {
      "cell_type": "markdown",
      "metadata": {
        "id": "L9pOJRw85D0P"
      },
      "source": [
        "`LinearRgression` 을 `model`변수에 선언합니다."
      ]
    },
    {
      "cell_type": "code",
      "metadata": {
        "id": "YEtJcquMlL0f"
      },
      "source": [
        "model = LinearRegression()"
      ],
      "execution_count": null,
      "outputs": []
    },
    {
      "cell_type": "markdown",
      "metadata": {
        "id": "grEtbJXP5D0Q"
      },
      "source": [
        "#### 1.3.1 학습하기\n",
        "scikii-learn 패키지의 LinearRegression을 이용해 선형 회귀 모델을 생성해 보겠습니다.\n",
        "\n",
        "`model`을 학습은 `fit`함수를 이용해서 할 수 있습니다.\n",
        "```python\n",
        "model.fit(X=..., y=...)\n",
        "```\n",
        "`X`는 학습에 사용할 데이터를 `y`는 학습에 사용할 정답입니다."
      ]
    },
    {
      "cell_type": "code",
      "metadata": {
        "colab": {
          "base_uri": "https://localhost:8080/"
        },
        "id": "vrCqJltWlO2L",
        "outputId": "4b434682-2f8b-4ed0-97f9-82b82893ae66"
      },
      "source": [
        "model.fit(X=data, y=y)\n",
        "#model.fit(data, y)"
      ],
      "execution_count": null,
      "outputs": [
        {
          "output_type": "execute_result",
          "data": {
            "text/plain": [
              "LinearRegression(copy_X=True, fit_intercept=True, n_jobs=None, normalize=False)"
            ]
          },
          "metadata": {},
          "execution_count": 11
        }
      ]
    },
    {
      "cell_type": "markdown",
      "metadata": {
        "id": "nui_0Fyt5D0Q"
      },
      "source": [
        "#### 1.3.2 모델의 식 확인"
      ]
    },
    {
      "cell_type": "markdown",
      "metadata": {
        "id": "ONDEhVy6nBhp"
      },
      "source": [
        "`bias`, 편향을 먼저 확인하겠습니다.  \n",
        "sklearn 에서는 `intercept_`로 확인할 수 있습니다."
      ]
    },
    {
      "cell_type": "code",
      "metadata": {
        "colab": {
          "base_uri": "https://localhost:8080/"
        },
        "id": "0FVLU3zllrTy",
        "outputId": "0d96a934-ba64-48ab-cc89-51595b5352ad"
      },
      "source": [
        "model.intercept_"
      ],
      "execution_count": null,
      "outputs": [
        {
          "output_type": "execute_result",
          "data": {
            "text/plain": [
              "1.0000000000000004"
            ]
          },
          "metadata": {},
          "execution_count": 12
        }
      ]
    },
    {
      "cell_type": "markdown",
      "metadata": {
        "id": "K_YmDkqJ5D0S"
      },
      "source": [
        "다음은 회귀계수 입니다.   \n",
        "`coef_`로 확인할 수 있습니다."
      ]
    },
    {
      "cell_type": "code",
      "metadata": {
        "colab": {
          "base_uri": "https://localhost:8080/"
        },
        "id": "o8u3tZn9lpEv",
        "outputId": "2eeb0412-4585-4596-8835-3e97ce8a1d28"
      },
      "source": [
        "model.coef_"
      ],
      "execution_count": null,
      "outputs": [
        {
          "output_type": "execute_result",
          "data": {
            "text/plain": [
              "array([0.6])"
            ]
          },
          "metadata": {},
          "execution_count": 13
        }
      ]
    },
    {
      "cell_type": "markdown",
      "metadata": {
        "id": "uO6cUDLDlxyp"
      },
      "source": [
        "위의 두 결과로 다음과 같은 회귀선을 얻을 수 있습니다.  \n",
        "`y = 1.0000000000000004 + 0.6 * x`"
      ]
    },
    {
      "cell_type": "markdown",
      "metadata": {
        "id": "78MCl7q1nLyI"
      },
      "source": [
        "#### 1.3.3 예측하기\n",
        "이제 학습된 모델로 예측하는 방법에 대해서 알아보겠습니다.  \n",
        "모델의 예측은 `predict` 함수를 통해 할 수 있습니다.\n",
        "```python\n",
        "model.predict(X=...)\n",
        "```\n",
        "`X`는 예측하고자 하는 데이터입니다."
      ]
    },
    {
      "cell_type": "code",
      "metadata": {
        "id": "YXFRBAA5lRHf"
      },
      "source": [
        "pred = model.predict(data)"
      ],
      "execution_count": null,
      "outputs": []
    },
    {
      "cell_type": "markdown",
      "metadata": {
        "id": "GX8WdM7J5D0T"
      },
      "source": [
        "예측한 결과는 다음과 같습니다."
      ]
    },
    {
      "cell_type": "code",
      "metadata": {
        "colab": {
          "base_uri": "https://localhost:8080/"
        },
        "id": "KrdE1GQelmO_",
        "outputId": "fc11bf05-981b-4915-cf28-68498bbd0373"
      },
      "source": [
        "pred"
      ],
      "execution_count": null,
      "outputs": [
        {
          "output_type": "execute_result",
          "data": {
            "text/plain": [
              "array([1.6, 2.2, 2.8, 3.4])"
            ]
          },
          "metadata": {},
          "execution_count": 15
        }
      ]
    },
    {
      "cell_type": "markdown",
      "metadata": {
        "id": "o-nv1eovn58u"
      },
      "source": [
        "### 1.4 회귀선을 Plot으로 표현하기"
      ]
    },
    {
      "cell_type": "code",
      "metadata": {
        "colab": {
          "base_uri": "https://localhost:8080/",
          "height": 282
        },
        "id": "8jr8BITYnpLT",
        "outputId": "ea1fab55-2ba7-4f9e-fa66-3d06f5515eb6"
      },
      "source": [
        "plt.scatter(X, y)\n",
        "plt.plot(X, pred, color='green')"
      ],
      "execution_count": null,
      "outputs": [
        {
          "output_type": "execute_result",
          "data": {
            "text/plain": [
              "[<matplotlib.lines.Line2D at 0x7fbb42331d50>]"
            ]
          },
          "metadata": {},
          "execution_count": 16
        },
        {
          "output_type": "display_data",
          "data": {
            "image/png": "[encoded data removed]",
            "text/plain": [
              "<Figure size 432x288 with 1 Axes>"
            ]
          },
          "metadata": {
            "needs_background": "light"
          }
        }
      ]
    },
    {
      "cell_type": "markdown",
      "metadata": {
        "id": "A8limbMt5D0U"
      },
      "source": [
        "## 2. Multivariate Regression"
      ]
    },
    {
      "cell_type": "markdown",
      "metadata": {
        "id": "I3SUamAu5D0U"
      },
      "source": [
        "### 2.1 Sample Data\n",
        "Multivariate Regression에서 사용할 데이터를 생성하고 학습된 회귀식과 비교해 보겠습니다."
      ]
    },
    {
      "cell_type": "code",
      "metadata": {
        "id": "wwOj3wmr5D0V"
      },
      "source": [
        "bias = 1\n",
        "beta = np.array([2,3,4,5]).reshape(4, 1)\n",
        "noise = np.random.randn(100, 1)"
      ],
      "execution_count": null,
      "outputs": []
    },
    {
      "cell_type": "code",
      "metadata": {
        "id": "Ifhs0X_urEym"
      },
      "source": [
        "X = np.random.randn(100, 4)\n",
        "y = bias + X.dot(beta)\n",
        "y_with_noise = y + noise"
      ],
      "execution_count": null,
      "outputs": []
    },
    {
      "cell_type": "code",
      "metadata": {
        "colab": {
          "base_uri": "https://localhost:8080/"
        },
        "id": "3kOrn42r7R6s",
        "outputId": "648c6026-eafa-494e-e458-71464a99c85b"
      },
      "source": [
        "X[:10]"
      ],
      "execution_count": null,
      "outputs": [
        {
          "output_type": "execute_result",
          "data": {
            "text/plain": [
              "array([[-0.74057432,  0.45823318,  1.2572469 , -0.44170407],\n",
              "       [ 0.5413351 ,  0.5672784 , -0.43538181,  0.76681236],\n",
              "       [ 0.48084856, -0.88128189, -0.68428578,  0.45401778],\n",
              "       [-0.72516608, -1.43882635,  2.15079225,  0.04869812],\n",
              "       [ 0.64711296, -1.07448408,  0.24474502,  0.37090588],\n",
              "       [ 0.41423217,  1.19669386,  1.0824733 ,  0.27691761],\n",
              "       [ 0.9303673 ,  0.33499986,  1.79409578, -0.95259799],\n",
              "       [-0.56992369,  0.24691765,  0.51129208, -0.43980433],\n",
              "       [ 1.79024025,  0.18092909,  0.38195648,  0.51485676],\n",
              "       [ 0.59167189,  1.9003216 ,  0.60031973, -0.12461753]])"
            ]
          },
          "metadata": {},
          "execution_count": 19
        }
      ]
    },
    {
      "cell_type": "code",
      "metadata": {
        "colab": {
          "base_uri": "https://localhost:8080/"
        },
        "id": "ul6szqDA7U0l",
        "outputId": "b0ad78aa-413a-4c94-b21c-9e75121fa39d"
      },
      "source": [
        "y[:10]"
      ],
      "execution_count": null,
      "outputs": [
        {
          "output_type": "execute_result",
          "data": {
            "text/plain": [
              "array([[ 3.71401813],\n",
              "       [ 5.87703996],\n",
              "       [-1.14920281],\n",
              "       [ 4.0798484 ],\n",
              "       [ 1.90428314],\n",
              "       [11.13302717],\n",
              "       [ 6.27912737],\n",
              "       [ 0.44705225],\n",
              "       [ 9.22537749],\n",
              "       [ 9.66249986]])"
            ]
          },
          "metadata": {},
          "execution_count": 20
        }
      ]
    },
    {
      "cell_type": "markdown",
      "metadata": {
        "id": "ioSvJV8Y5D0W"
      },
      "source": [
        "### 2.2 Multivariate Regression"
      ]
    },
    {
      "cell_type": "code",
      "metadata": {
        "colab": {
          "base_uri": "https://localhost:8080/"
        },
        "id": "IuIefBpS5D0W",
        "outputId": "7676e1b7-a161-4554-811d-6059af2b6baa"
      },
      "source": [
        "model = LinearRegression()\n",
        "model.fit(X, y_with_noise)"
      ],
      "execution_count": null,
      "outputs": [
        {
          "output_type": "execute_result",
          "data": {
            "text/plain": [
              "LinearRegression(copy_X=True, fit_intercept=True, n_jobs=None, normalize=False)"
            ]
          },
          "metadata": {},
          "execution_count": 21
        }
      ]
    },
    {
      "cell_type": "markdown",
      "metadata": {
        "id": "WCQ849si5D0W"
      },
      "source": [
        "### 2.3 회귀식 확인하기"
      ]
    },
    {
      "cell_type": "code",
      "metadata": {
        "colab": {
          "base_uri": "https://localhost:8080/"
        },
        "id": "BS7YW8Z85D0X",
        "outputId": "5c5b302c-55d7-4989-d2f1-3e1efa3861f6"
      },
      "source": [
        "model.intercept_"
      ],
      "execution_count": null,
      "outputs": [
        {
          "output_type": "execute_result",
          "data": {
            "text/plain": [
              "array([1.11417641])"
            ]
          },
          "metadata": {},
          "execution_count": 22
        }
      ]
    },
    {
      "cell_type": "code",
      "metadata": {
        "colab": {
          "base_uri": "https://localhost:8080/"
        },
        "id": "RKYU25r05D0X",
        "outputId": "3ab0c4cf-63f3-49d0-8eca-0ada14192544"
      },
      "source": [
        "model.coef_"
      ],
      "execution_count": null,
      "outputs": [
        {
          "output_type": "execute_result",
          "data": {
            "text/plain": [
              "array([[1.99383579, 2.94374717, 3.97346537, 4.84223742]])"
            ]
          },
          "metadata": {},
          "execution_count": 23
        }
      ]
    },
    {
      "cell_type": "markdown",
      "metadata": {
        "id": "TcwyZtbH5D0X"
      },
      "source": [
        "원래 식과 비교한 결과 편향은 잘 맞추지 못했습니다.\n",
        "다만 회귀 계수의 경우 비교적 정확하게 예측을 하였습니다."
      ]
    },
    {
      "cell_type": "markdown",
      "metadata": {
        "id": "tJ4AWBNA5D0X"
      },
      "source": [
        "### 2.4 통계적 방법\n",
        "이번엔 통계적 방법으로 회귀식을 계산해 보겠습니다."
      ]
    },
    {
      "cell_type": "code",
      "metadata": {
        "id": "IJ3CuL915D0X"
      },
      "source": [
        "bias_X = np.array([1]*len(X)).reshape(-1, 1)\n",
        "stat_X = np.hstack([bias_X, X])\n",
        "X_X_transpose = stat_X.transpose().dot(stat_X)\n",
        "X_X_transpose_inverse = np.linalg.inv(X_X_transpose)"
      ],
      "execution_count": null,
      "outputs": []
    },
    {
      "cell_type": "code",
      "metadata": {
        "id": "VlgT6lDo5D0Y"
      },
      "source": [
        "stat_beta = X_X_transpose_inverse.dot(stat_X.transpose()).dot(y_with_noise)"
      ],
      "execution_count": null,
      "outputs": []
    },
    {
      "cell_type": "code",
      "metadata": {
        "colab": {
          "base_uri": "https://localhost:8080/"
        },
        "id": "IIizk9Qo5D0Y",
        "outputId": "752e9fe0-0aac-4c0c-9e4e-20623c6d6183"
      },
      "source": [
        "stat_beta"
      ],
      "execution_count": null,
      "outputs": [
        {
          "output_type": "execute_result",
          "data": {
            "text/plain": [
              "array([[1.11417641],\n",
              "       [1.99383579],\n",
              "       [2.94374717],\n",
              "       [3.97346537],\n",
              "       [4.84223742]])"
            ]
          },
          "metadata": {},
          "execution_count": 26
        }
      ]
    },
    {
      "cell_type": "markdown",
      "metadata": {
        "id": "E-LAUHuI5D0Y"
      },
      "source": [
        "## 3. Polynomial Regression"
      ]
    },
    {
      "cell_type": "markdown",
      "metadata": {
        "id": "7SYm02ac5D0Z"
      },
      "source": [
        "### 3.1 Sample Data"
      ]
    },
    {
      "cell_type": "markdown",
      "metadata": {
        "id": "KEwT9Sjr5D0Z"
      },
      "source": [
        "비선형 데이터를 생성해 보겠습니다."
      ]
    },
    {
      "cell_type": "code",
      "metadata": {
        "id": "fnmCZS6j5D0Z"
      },
      "source": [
        "bias = 1\n",
        "beta = np.array([2,3]).reshape(2, 1)\n",
        "noise = np.random.randn(100, 1)"
      ],
      "execution_count": null,
      "outputs": []
    },
    {
      "cell_type": "code",
      "metadata": {
        "id": "25bQKVHs5D0Z"
      },
      "source": [
        "X = np.random.randn(100, 1)\n",
        "X_poly = np.hstack([X, X**2])"
      ],
      "execution_count": null,
      "outputs": []
    },
    {
      "cell_type": "code",
      "metadata": {
        "colab": {
          "base_uri": "https://localhost:8080/"
        },
        "id": "ip9VAIew7w-A",
        "outputId": "89cb6fdc-5eb2-468f-cd4a-e146d4f41575"
      },
      "source": [
        "X_poly[:10]"
      ],
      "execution_count": null,
      "outputs": [
        {
          "output_type": "execute_result",
          "data": {
            "text/plain": [
              "array([[-0.92491748,  0.85547234],\n",
              "       [ 1.01010697,  1.02031609],\n",
              "       [ 0.75532068,  0.57050933],\n",
              "       [ 0.8542725 ,  0.7297815 ],\n",
              "       [ 0.70907623,  0.5027891 ],\n",
              "       [ 0.82063592,  0.67344331],\n",
              "       [ 0.12924242,  0.0167036 ],\n",
              "       [ 0.07362991,  0.00542136],\n",
              "       [-0.25463986,  0.06484146],\n",
              "       [ 0.06335837,  0.00401428]])"
            ]
          },
          "metadata": {},
          "execution_count": 29
        }
      ]
    },
    {
      "cell_type": "code",
      "metadata": {
        "id": "4xp1_iE_5D0Z"
      },
      "source": [
        "y = bias + X_poly.dot(beta)\n",
        "y_with_noise = y + noise"
      ],
      "execution_count": null,
      "outputs": []
    },
    {
      "cell_type": "code",
      "metadata": {
        "colab": {
          "base_uri": "https://localhost:8080/",
          "height": 282
        },
        "id": "Ft2iR0wu5D0Z",
        "outputId": "800c8463-d6bc-4368-a6f9-cb005af07557"
      },
      "source": [
        "plt.scatter(X, y_with_noise)"
      ],
      "execution_count": null,
      "outputs": [
        {
          "output_type": "execute_result",
          "data": {
            "text/plain": [
              "<matplotlib.collections.PathCollection at 0x7fbb33889410>"
            ]
          },
          "metadata": {},
          "execution_count": 31
        },
        {
          "output_type": "display_data",
          "data": {
            "image/png": "[encoded data removed]",
            "text/plain": [
              "<Figure size 432x288 with 1 Axes>"
            ]
          },
          "metadata": {
            "needs_background": "light"
          }
        }
      ]
    },
    {
      "cell_type": "markdown",
      "metadata": {
        "id": "Ek68SVi25D0a"
      },
      "source": [
        "### 3.2 Polynomial Regression"
      ]
    },
    {
      "cell_type": "markdown",
      "metadata": {
        "id": "_aAo_S9a5D0a"
      },
      "source": [
        "#### 3.2.1 학습하기"
      ]
    },
    {
      "cell_type": "code",
      "metadata": {
        "colab": {
          "base_uri": "https://localhost:8080/"
        },
        "id": "gsWjlrQ25D0a",
        "outputId": "eca83dcc-644b-4e21-d610-8fd8957aa307"
      },
      "source": [
        "model = LinearRegression()\n",
        "model.fit(X_poly, y_with_noise)"
      ],
      "execution_count": null,
      "outputs": [
        {
          "output_type": "execute_result",
          "data": {
            "text/plain": [
              "LinearRegression(copy_X=True, fit_intercept=True, n_jobs=None, normalize=False)"
            ]
          },
          "metadata": {},
          "execution_count": 32
        }
      ]
    },
    {
      "cell_type": "markdown",
      "metadata": {
        "id": "vwyJHmlp5D0a"
      },
      "source": [
        "#### 3.2.2 회귀식 확인하기"
      ]
    },
    {
      "cell_type": "code",
      "metadata": {
        "colab": {
          "base_uri": "https://localhost:8080/"
        },
        "id": "jsUMxe3D5D0a",
        "outputId": "54daee20-8239-4248-b698-d4528b7fd922"
      },
      "source": [
        "model.intercept_"
      ],
      "execution_count": null,
      "outputs": [
        {
          "output_type": "execute_result",
          "data": {
            "text/plain": [
              "array([1.0466608])"
            ]
          },
          "metadata": {},
          "execution_count": 33
        }
      ]
    },
    {
      "cell_type": "code",
      "metadata": {
        "colab": {
          "base_uri": "https://localhost:8080/"
        },
        "id": "mtz1RMwF5D0b",
        "outputId": "e59b6a9a-7e2b-496e-d2f2-f2aa4059a034"
      },
      "source": [
        "model.coef_"
      ],
      "execution_count": null,
      "outputs": [
        {
          "output_type": "execute_result",
          "data": {
            "text/plain": [
              "array([[2.02459592, 2.96023615]])"
            ]
          },
          "metadata": {},
          "execution_count": 34
        }
      ]
    },
    {
      "cell_type": "markdown",
      "metadata": {
        "id": "Q5YVtkdx5D0b"
      },
      "source": [
        "#### 3.2.3 예측하기"
      ]
    },
    {
      "cell_type": "code",
      "metadata": {
        "id": "sVPQddfl5D0b"
      },
      "source": [
        "pred = model.predict(X_poly)"
      ],
      "execution_count": null,
      "outputs": []
    },
    {
      "cell_type": "markdown",
      "metadata": {
        "id": "2VrOFJkc5D0b"
      },
      "source": [
        "### 3.3 예측값을 Plot으로 확인하기\n",
        "- 비선형으로 예측하는 것을 확인할 수 있습니다."
      ]
    },
    {
      "cell_type": "code",
      "metadata": {
        "colab": {
          "base_uri": "https://localhost:8080/",
          "height": 282
        },
        "id": "NdZ4Jwgl5D0b",
        "outputId": "54e617b0-6fc9-43ef-870f-9e18b1b37701"
      },
      "source": [
        "plt.scatter(X, pred)"
      ],
      "execution_count": null,
      "outputs": [
        {
          "output_type": "execute_result",
          "data": {
            "text/plain": [
              "<matplotlib.collections.PathCollection at 0x7fbb337eadd0>"
            ]
          },
          "metadata": {},
          "execution_count": 36
        },
        {
          "output_type": "display_data",
          "data": {
            "image/png": "[encoded data removed]",
            "text/plain": [
              "<Figure size 432x288 with 1 Axes>"
            ]
          },
          "metadata": {
            "needs_background": "light"
          }
        }
      ]
    },
    {
      "cell_type": "code",
      "metadata": {
        "id": "Op853wAX7_Lk"
      },
      "source": [
        ""
      ],
      "execution_count": null,
      "outputs": []
    }
  ]
}